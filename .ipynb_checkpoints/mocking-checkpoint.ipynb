{
  "cells": [
    {
      "cell_type": "code",
      "execution_count": 8,
      "metadata": {},
      "outputs": [
        {
          "ename": "AttributeError",
          "evalue": "'str' object has no attribute 'return_value' and no __dict__ for setting new attributes",
          "output_type": "error",
          "traceback": [
            "\u001b[31m---------------------------------------------------------------------------\u001b[39m",
            "\u001b[31mAttributeError\u001b[39m                            Traceback (most recent call last)",
            "\u001b[36mCell\u001b[39m\u001b[36m \u001b[39m\u001b[32mIn[8]\u001b[39m\u001b[32m, line 10\u001b[39m\n\u001b[32m      8\u001b[39m \u001b[38;5;66;03m# Mock 객체의 메서드나 속성에 값 설정\u001b[39;00m\n\u001b[32m      9\u001b[39m mock_obj.fdfs = \u001b[33m\"\u001b[39m\u001b[33m모킹된 속성\u001b[39m\u001b[33m\"\u001b[39m\n\u001b[32m---> \u001b[39m\u001b[32m10\u001b[39m \u001b[43mmock_obj\u001b[49m\u001b[43m.\u001b[49m\u001b[43mfdfs\u001b[49m\u001b[43m.\u001b[49m\u001b[43mreturn_value\u001b[49m = \u001b[33m\"\u001b[39m\u001b[33m모킹된 결과\u001b[39m\u001b[33m\"\u001b[39m\n\u001b[32m     13\u001b[39m \u001b[38;5;28mprint\u001b[39m(\u001b[33m\"\u001b[39m\u001b[33mMock 객체 결과:\u001b[39m\u001b[33m\"\u001b[39m)\n\u001b[32m     14\u001b[39m \u001b[38;5;28mprint\u001b[39m(\u001b[33mf\u001b[39m\u001b[33m\"\u001b[39m\u001b[33mmethod() 호출: \u001b[39m\u001b[38;5;132;01m{\u001b[39;00mmock_obj.fdfs()\u001b[38;5;132;01m}\u001b[39;00m\u001b[33m\"\u001b[39m)\n",
            "\u001b[31mAttributeError\u001b[39m: 'str' object has no attribute 'return_value' and no __dict__ for setting new attributes"
          ]
        }
      ],
      "source": [
        "# 모킹 객체 만들기 - unittest.mock 사용법\n",
        "\n",
        "from unittest.mock import Mock, MagicMock, patch\n",
        "\n",
        "# 1. 기본 Mock 객체 생성\n",
        "mock_obj = Mock()\n",
        "\n",
        "# Mock 객체의 메서드나 속성에 값 설정\n",
        "mock_obj.fdfs = \"모킹된 속성\"\n",
        "mock_obj.fdfs.return_value = \"모킹된 결과\"\n",
        "\n",
        "\n",
        "print(\"Mock 객체 결과:\")\n",
        "print(f\"method() 호출: {mock_obj.fdfs()}\")\n",
        "print(f\"attribute 접근: {mock_obj.fdfs}\")\n"
      ]
    },
    {
      "cell_type": "code",
      "execution_count": null,
      "metadata": {},
      "outputs": [],
      "source": [
        "# 2. MagicMock - 특수 메서드도 자동으로 모킹\n",
        "magic_mock = MagicMock()\n",
        "\n",
        "# 리스트처럼 동작하도록 설정\n",
        "magic_mock.__len__.return_value = 5\n",
        "magic_mock.__getitem__.return_value = \"모킹된 아이템\"\n",
        "\n",
        "print(\"\\nMagicMock 객체 결과:\")\n",
        "print(f\"len() 호출: {len(magic_mock)}\")\n",
        "print(f\"인덱싱: {magic_mock[0]}\")\n"
      ]
    },
    {
      "cell_type": "code",
      "execution_count": 9,
      "metadata": {},
      "outputs": [
        {
          "name": "stdout",
          "output_type": "stream",
          "text": [
            "\n",
            "모킹된 OpenAI 클라이언트 테스트:\n",
            "응답: 모킹된 OpenAI 응답\n"
          ]
        }
      ],
      "source": [
        "# 3. OpenAI 클라이언트 모킹 예제 (현재 프로젝트와 관련)\n",
        "from unittest.mock import Mock\n",
        "\n",
        "# OpenAI 응답 모킹\n",
        "mock_openai_response = Mock()\n",
        "mock_openai_response.choices = [Mock()]\n",
        "mock_openai_response.choices[0].message.content = \"모킹된 OpenAI 응답\"\n",
        "\n",
        "# OpenAI 클라이언트 모킹\n",
        "mock_openai_client = Mock()\n",
        "mock_openai_client.chat.completions.create.return_value = mock_openai_response\n",
        "\n",
        "print(\"\\n모킹된 OpenAI 클라이언트 테스트:\")\n",
        "response = mock_openai_client.chat.completions.create(\n",
        "    model=\"gpt-4\",\n",
        "    messages=[{\"role\": \"user\", \"content\": \"테스트\"}]\n",
        ")\n",
        "print(f\"응답: {response.choices[0].message.content}\")\n"
      ]
    },
    {
      "cell_type": "code",
      "execution_count": null,
      "metadata": {},
      "outputs": [],
      "source": [
        "# 4. @patch 데코레이터를 사용한 모킹 (함수/클래스 모킹)\n",
        "from unittest.mock import patch\n",
        "\n",
        "# 함수를 임시로 모킹\n",
        "@patch('time.time')\n",
        "def test_with_mocked_time(mock_time):\n",
        "    mock_time.return_value = 1234567890\n",
        "    import time\n",
        "    return f\"모킹된 시간: {time.time()}\"\n",
        "\n",
        "result = test_with_mocked_time()\n",
        "print(f\"\\n@patch 데코레이터 결과: {result}\")\n"
      ]
    },
    {
      "cell_type": "code",
      "execution_count": null,
      "metadata": {},
      "outputs": [],
      "source": [
        "# 5. 컨텍스트 매니저로 모킹\n",
        "from unittest.mock import patch\n",
        "\n",
        "print(\"\\n컨텍스트 매니저로 모킹:\")\n",
        "with patch('requests.get') as mock_get:\n",
        "    # 가짜 응답 설정\n",
        "    mock_response = Mock()\n",
        "    mock_response.status_code = 200\n",
        "    mock_response.json.return_value = {\"result\": \"모킹된 API 응답\"}\n",
        "    mock_get.return_value = mock_response\n",
        "    \n",
        "    # 실제로는 requests.get이 호출되지 않고 모킹된 응답 반환\n",
        "    import requests\n",
        "    response = requests.get(\"https://api.example.com\")\n",
        "    print(f\"상태 코드: {response.status_code}\")\n",
        "    print(f\"JSON 응답: {response.json()}\")\n"
      ]
    },
    {
      "cell_type": "code",
      "execution_count": null,
      "metadata": {},
      "outputs": [],
      "source": [
        "# 6. 호출 추적 및 검증\n",
        "from unittest.mock import Mock\n",
        "\n",
        "print(\"\\n호출 추적 및 검증:\")\n",
        "mock_obj = Mock()\n",
        "\n",
        "# 메서드 호출\n",
        "mock_obj.some_method(\"arg1\", \"arg2\", keyword=\"value\")\n",
        "mock_obj.some_method(\"different_arg\")\n",
        "\n",
        "# 호출 여부 확인\n",
        "print(f\"some_method 호출됨: {mock_obj.some_method.called}\")\n",
        "print(f\"호출 횟수: {mock_obj.some_method.call_count}\")\n",
        "\n",
        "# 특정 인자로 호출되었는지 확인\n",
        "mock_obj.some_method.assert_called_with(\"different_arg\")\n",
        "print(\"마지막 호출 인자 검증 통과\")\n",
        "\n",
        "# 모든 호출 기록 확인\n",
        "print(f\"모든 호출 기록: {mock_obj.some_method.call_args_list}\")\n"
      ]
    },
    {
      "cell_type": "code",
      "execution_count": null,
      "metadata": {},
      "outputs": [],
      "source": [
        "# 7. Side Effect 사용 (예외 발생, 시퀀스 반환 등)\n",
        "from unittest.mock import Mock\n",
        "\n",
        "print(\"\\nSide Effect 사용:\")\n",
        "\n",
        "# 예외 발생시키기\n",
        "mock_with_exception = Mock()\n",
        "mock_with_exception.risky_method.side_effect = ValueError(\"모킹된 예외\")\n",
        "\n",
        "try:\n",
        "    mock_with_exception.risky_method()\n",
        "except ValueError as e:\n",
        "    print(f\"예외 발생: {e}\")\n",
        "\n",
        "# 연속된 값들 반환하기\n",
        "mock_with_sequence = Mock()\n",
        "mock_with_sequence.get_value.side_effect = [1, 2, 3, 4]\n",
        "\n",
        "print(\"연속 호출 결과:\")\n",
        "for i in range(4):\n",
        "    print(f\"호출 {i+1}: {mock_with_sequence.get_value()}\")\n"
      ]
    },
    {
      "cell_type": "markdown",
      "metadata": {},
      "source": [
        "\n"
      ]
    },
    {
      "cell_type": "code",
      "execution_count": null,
      "metadata": {},
      "outputs": [],
      "source": [
        "\n"
      ]
    },
    {
      "cell_type": "code",
      "execution_count": null,
      "metadata": {},
      "outputs": [],
      "source": [
        "\n"
      ]
    },
    {
      "cell_type": "code",
      "execution_count": null,
      "metadata": {},
      "outputs": [],
      "source": [
        "\n"
      ]
    }
  ],
  "metadata": {
    "kernelspec": {
      "display_name": ".venv",
      "language": "python",
      "name": "python3"
    },
    "language_info": {
      "codemirror_mode": {
        "name": "ipython",
        "version": 3
      },
      "file_extension": ".py",
      "mimetype": "text/x-python",
      "name": "python",
      "nbconvert_exporter": "python",
      "pygments_lexer": "ipython3",
      "version": "3.13.5"
    }
  },
  "nbformat": 4,
  "nbformat_minor": 2
}
