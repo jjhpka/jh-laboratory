{
 "cells": [
  {
   "cell_type": "code",
   "execution_count": 1,
   "id": "19c726d3",
   "metadata": {},
   "outputs": [],
   "source": [
    "import openai\n",
    "import os\n",
    "import json\n",
    "import time\n",
    "import requests\n",
    "import sa"
   ]
  },
  {
   "cell_type": "code",
   "execution_count": 8,
   "id": "d16d4fa7",
   "metadata": {},
   "outputs": [],
   "source": [
    "agent = await sa.Agent.create(model=\"openai/gpt-4o-mini\", system_prompt=\"You are a helpful assistant.\", endpoint='openrouter', local_tools=False)"
   ]
  },
  {
   "cell_type": "markdown",
   "id": "564b0aac",
   "metadata": {},
   "source": []
  },
  {
   "cell_type": "code",
   "execution_count": 12,
   "id": "a3027d49",
   "metadata": {},
   "outputs": [],
   "source": [
    "async def co():\n",
    "    input_text = input('입력: ')\n",
    "    async for i in agent.text_response(input_text):\n",
    "        print(i, end='', flush=False)"
   ]
  },
  {
   "cell_type": "code",
   "execution_count": 15,
   "id": "71c6c6f9",
   "metadata": {},
   "outputs": [
    {
     "name": "stdout",
     "output_type": "stream",
     "text": [
      "우리는 인사로 대화를 시작했고, 당신이 \"안녕\"이라고 말씀하셨습니다. 그 후 제가 당신의 질문에 답했습니다. 추가로 궁금한 점이나 이야기하고 싶은 주제가 있다면 말씀해 주세요!"
     ]
    }
   ],
   "source": [
    "await co()"
   ]
  },
  {
   "cell_type": "code",
   "execution_count": 4,
   "id": "cf5b2d46",
   "metadata": {},
   "outputs": [],
   "source": [
    "openai_client = openai.OpenAI(api_key=os.getenv(\"OPENROUTER_API_KEY\"), base_url=\"https://openrouter.ai/api/v1\")\n"
   ]
  },
  {
   "cell_type": "code",
   "execution_count": 30,
   "id": "bf8f871b",
   "metadata": {},
   "outputs": [],
   "source": [
    "TOOL_LIST = [\n",
    "    {\n",
    "        \"type\": \"function\",\n",
    "        \"function\": {\n",
    "            \"name\": \"get_current_time\",\n",
    "            \"description\": \"Get the current time\",\n",
    "            \"parameters\": {\n",
    "                \"type\": \"object\",\n",
    "                \"properties\": {\n",
    "                    \"timezone\": {\"type\": \"string\", \"description\": \"The timezone to get the time in\"}\n",
    "                },\n",
    "                \"required\": [\"timezone\"]\n",
    "            }\n",
    "        },\n",
    "        \"strict\": True\n",
    "    },\n",
    "    {\n",
    "        \"type\": \"function\",\n",
    "        \"function\": {\n",
    "            \"name\": \"temperature_to_fahrenheit\",\n",
    "            \"description\": \"Convert temperature from Celsius to Fahrenheit\",\n",
    "            \"parameters\": {\n",
    "                \"type\": \"object\",\n",
    "                \"properties\": {\n",
    "                    \"celsius\": {\"type\": \"number\", \"description\": \"Temperature in Celsius\"}\n",
    "                },\n",
    "                \"required\": [\"celsius\"]\n",
    "            }\n",
    "        },\n",
    "        \"strict\": True\n",
    "    }\n",
    "]"
   ]
  },
  {
   "cell_type": "code",
   "execution_count": null,
   "id": "f1ff0e6a",
   "metadata": {},
   "outputs": [],
   "source": [
    "from collections import defaultdict"
   ]
  },
  {
   "cell_type": "code",
   "execution_count": null,
   "id": "27710eb2-100f-4683-83c2-2f8d27f9700d",
   "metadata": {},
   "outputs": [],
   "source": [
    "from unittest.mock import Mock\n",
    "\n",
    "mock_response = Mock()\n",
    "mock_response.choices = [Mock()]\n",
    "mock_response.choices[0].message.content = \"모킹된 OpenAI 응답\"\n",
    "mock_response.choices[0].delta.tool_calls.id = 'call_sdfsdf'\n",
    "mock_response.choices[0].delta.tool_calls.function.name = 'temperature_to_fahrenheit'\n",
    "mock_response.choices[0].delta.tool_calls.function.arguments = ['{\"ti', 'mezon', 'e\": \"A','sia/', 'Seoul', '\"}']\n",
    "\n",
    "mock_client = Mock()\n",
    "mock_client.chat.completions.create.return_value = mock_response"
   ]
  },
  {
   "cell_type": "code",
   "execution_count": null,
   "id": "5ee06c1f",
   "metadata": {},
   "outputs": [],
   "source": [
    "def openai_client_stream(user_input: str, client):\n",
    "    \n",
    "    tool_calls = []\n",
    "    tool = defaultdict(str)\n",
    "    messages = [{\"role\": \"user\", \"content\": user_input}]\n",
    "\n",
    "    response = client.chat.completions.create(\n",
    "        model=\"openai/gpt-4o-mini\",\n",
    "        messages=messages,\n",
    "        stream=True,\n",
    "        tools=TOOL_LIST\n",
    "    )\n",
    "    for i in response:\n",
    "        if i.choices[0].delta.tool_calls:\n",
    "            tool_calling = i.choices[0].delta.tool_calls[0]\n",
    "            # print(tool_calling)\n",
    "            yield tool_calling.id if tool_calling.id else ''\n",
    "            yield tool_calling.function.name if tool_calling.function.name else ''\n",
    "            yield tool_calling.function.arguments if tool_calling.function.arguments else ''\n",
    "        #     tool['id'] = tool_calling.id\n",
    "        #     tool['name'] = tool_calling.function.name\n",
    "        #     tool['arguments'] += tool_calling.function.arguments\n",
    "\n"
   ]
  },
  {
   "cell_type": "code",
   "execution_count": null,
   "id": "51d54bfb-c16b-4bc5-98a5-decd4d091a21",
   "metadata": {},
   "outputs": [],
   "source": [
    "openai_client_stream('sad', ㅡㅐㅊ"
   ]
  },
  {
   "cell_type": "code",
   "execution_count": null,
   "id": "8e8cb064",
   "metadata": {},
   "outputs": [],
   "source": [
    "from dataclasses import dataclass\n",
    "\n",
    "@dataclass\n",
    "class Tool:\n",
    "    id: str = \"\"\n",
    "    f_name: str = \"\"\n",
    "    f_args: str = \"\""
   ]
  },
  {
   "cell_type": "code",
   "execution_count": 91,
   "id": "d50f0162",
   "metadata": {},
   "outputs": [],
   "source": [
    "too = Tool(id='asd')"
   ]
  },
  {
   "cell_type": "code",
   "execution_count": 92,
   "id": "ab1f01bd",
   "metadata": {},
   "outputs": [
    {
     "data": {
      "text/plain": [
       "Tool(id='asd', f_name='', f_args='')"
      ]
     },
     "execution_count": 92,
     "metadata": {},
     "output_type": "execute_result"
    }
   ],
   "source": [
    "too"
   ]
  },
  {
   "cell_type": "code",
   "execution_count": null,
   "id": "025f543f",
   "metadata": {},
   "outputs": [],
   "source": [
    "tool_list = []\n",
    "\n",
    "tool_calling = i.choices[0].delta.tool_calls[0]\n",
    "\n",
    "@property\n",
    "class Tool:\n",
    "    id: str = \"\"\n",
    "    f_name: str = \"\"\n",
    "    f_args: str = \"\"\n",
    "\n",
    "if tool_calling.id:\n",
    "    Tool(id=tool_calling.id)\n",
    "    \n",
    "    "
   ]
  },
  {
   "cell_type": "code",
   "execution_count": 94,
   "id": "25a62712",
   "metadata": {},
   "outputs": [],
   "source": [
    "a_result = []"
   ]
  },
  {
   "cell_type": "code",
   "execution_count": 97,
   "id": "3aae0eaa",
   "metadata": {},
   "outputs": [],
   "source": [
    "for i in openai_client_stream():\n",
    "    a_result.append(i)"
   ]
  },
  {
   "cell_type": "code",
   "execution_count": 84,
   "id": "39adaa80",
   "metadata": {},
   "outputs": [],
   "source": [
    "user_input = input('입력: ')"
   ]
  },
  {
   "cell_type": "code",
   "execution_count": 101,
   "id": "2a46fd4c",
   "metadata": {},
   "outputs": [
    {
     "name": "stdout",
     "output_type": "stream",
     "text": [
      "call_fT7uXRTLj0GxzUwynAcvgp8g\n",
      "get_current_time\n",
      "\n",
      "\n",
      "\n",
      "{\"ti\n",
      "\n",
      "\n",
      "mezon\n",
      "\n",
      "\n",
      "e\": \"A\n",
      "\n",
      "\n",
      "sia/\n",
      "\n",
      "\n",
      "Seoul\n",
      "\n",
      "\n",
      "\"}\n",
      "call_1cpsuMZKHzsx0fPBFAg1Htui\n",
      "temperature_to_fahrenheit\n",
      "\n",
      "\n",
      "\n",
      "{\"ce\n",
      "\n",
      "\n",
      "lsius\n",
      "\n",
      "\n",
      "\": 20}\n"
     ]
    }
   ],
   "source": [
    "for i in a_result:\n",
    "    print(i)"
   ]
  }
 ],
 "metadata": {
  "kernelspec": {
   "display_name": "Python 3 (ipykernel)",
   "language": "python",
   "name": "python3"
  },
  "language_info": {
   "codemirror_mode": {
    "name": "ipython",
    "version": 3
   },
   "file_extension": ".py",
   "mimetype": "text/x-python",
   "name": "python",
   "nbconvert_exporter": "python",
   "pygments_lexer": "ipython3",
   "version": "3.13.5"
  }
 },
 "nbformat": 4,
 "nbformat_minor": 5
}
